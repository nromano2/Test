{
 "cells": [
  {
   "cell_type": "code",
   "execution_count": 1,
   "id": "24c81424-984a-4587-9b3d-b2c082c3b865",
   "metadata": {},
   "outputs": [
    {
     "name": "stdout",
     "output_type": "stream",
     "text": [
      "Hello World\n"
     ]
    }
   ],
   "source": [
    "print(\"Hello World\")"
   ]
  },
  {
   "cell_type": "code",
   "execution_count": 2,
   "id": "a39ff576-698b-4c81-96b6-1519cea783b7",
   "metadata": {},
   "outputs": [
    {
     "name": "stdout",
     "output_type": "stream",
     "text": [
      "8\n"
     ]
    }
   ],
   "source": [
    "print(3 + 5)"
   ]
  },
  {
   "cell_type": "code",
   "execution_count": 3,
   "id": "9042fea8-a90c-4913-962f-4e38a0a80e5d",
   "metadata": {},
   "outputs": [
    {
     "name": "stdout",
     "output_type": "stream",
     "text": [
      "125\n"
     ]
    }
   ],
   "source": [
    "print(5**3)"
   ]
  },
  {
   "cell_type": "markdown",
   "id": "909d4420-4b1f-4ea1-9e40-460fb47cbd34",
   "metadata": {},
   "source": [
    "# Heading One\n",
    "## Heading Two\n",
    "### Heading Three\n",
    "#### Heading Four\n",
    "##### Heading Five\n",
    "###### Heading Six\n",
    "\n",
    "> this is a good day\n",
    "\n",
    "* this is a bulleted list\n",
    "1. ordered list\n",
    "2. using numbers\n",
    "\n",
    "**these are bolded words** \n",
    "*these are italicized words*\n",
    "\n",
    "`here is code for printing statements`\n",
    "\n",
    "<a href=\"https://github.com/login?\">this link</a>\n",
    "\n",
    "![Python Logo](https://www.python.org/static/community_logos/python-logo-master-v3-TM.png)"
   ]
  }
 ],
 "metadata": {
  "kernelspec": {
   "display_name": "Python 3",
   "language": "python",
   "name": "python3"
  },
  "language_info": {
   "codemirror_mode": {
    "name": "ipython",
    "version": 3
   },
   "file_extension": ".py",
   "mimetype": "text/x-python",
   "name": "python",
   "nbconvert_exporter": "python",
   "pygments_lexer": "ipython3",
   "version": "3.8.8"
  }
 },
 "nbformat": 4,
 "nbformat_minor": 5
}
